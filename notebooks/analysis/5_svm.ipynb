{
 "cells": [
  {
   "cell_type": "code",
   "execution_count": 2,
   "id": "2f8956af",
   "metadata": {},
   "outputs": [],
   "source": [
    "import pandas as pd\n",
    "import matplotlib.pyplot as plt\n",
    "import seaborn as sns\n",
    "from pandas.api.types import CategoricalDtype\n",
    "from sklearn.model_selection import train_test_split\n",
    "from sklearn.preprocessing import StandardScaler\n",
    "from sklearn.decomposition import PCA\n",
    "from sklearn.svm import SVC\n",
    "from sklearn.metrics import classification_report, accuracy_score, confusion_matrix, precision_score, recall_score, f1_score\n",
    "import matplotlib.font_manager as fm\n",
    "import platform\n",
    "\n",
    "plt.rcParams['font.family'] = 'Malgun Gothic'\n",
    "plt.rcParams['axes.unicode_minus'] = False"
   ]
  },
  {
   "cell_type": "markdown",
   "id": "e9738888",
   "metadata": {},
   "source": [
    "### cleaned 데이터 SVM"
   ]
  },
  {
   "cell_type": "code",
   "execution_count": 3,
   "id": "f2bf6572",
   "metadata": {},
   "outputs": [],
   "source": [
    "df = pd.read_csv('../../data/processed/sleep_cycle_productivity_cleaned.csv')"
   ]
  },
  {
   "cell_type": "code",
   "execution_count": 4,
   "id": "31a4169b",
   "metadata": {},
   "outputs": [],
   "source": [
    "# 순서형 변수 정의 및 변환\n",
    "ordered_score = CategoricalDtype(categories=list(range(1, 11)), ordered=True)\n",
    "df['Sleep Quality'] = df['Sleep Quality'].astype(ordered_score)\n",
    "df['Productivity Score'] = df['Productivity Score'].astype(ordered_score)\n",
    "df['Mood Score'] = df['Mood Score'].astype(ordered_score)\n",
    "df['Stress Level'] = df['Stress Level'].astype(ordered_score)\n",
    "\n",
    "df['Weekday'] = df['Weekday'].astype('category')\n",
    "df['Gender'] = df['Gender'].astype('category')\n",
    "\n",
    "df['Sleep_Quality_Binary'] = (df['Sleep Quality'] >= 5).astype(int)\n",
    "y = df['Sleep_Quality_Binary']\n",
    "\n",
    "X = df[['Age', 'Gender', 'Sleep Start Time', 'Sleep End Time',\n",
    "        'Total Sleep Hours', 'Exercise (mins/day)',\n",
    "        'Screen Time Before Bed (mins)', 'Work Hours (hrs/day)',\n",
    "        'Productivity Score', 'Mood Score', 'Stress Level', 'Weekday']]\n",
    "\n",
    "X = pd.get_dummies(X, drop_first=True)\n",
    "\n",
    "X_train, X_test, y_train, y_test = train_test_split(X, y, test_size=0.2, random_state=5)\n"
   ]
  },
  {
   "cell_type": "code",
   "execution_count": 5,
   "id": "c9f29541",
   "metadata": {},
   "outputs": [],
   "source": [
    "scaler = StandardScaler()\n",
    "X_train_scaled = scaler.fit_transform(X_train)\n",
    "X_test_scaled = scaler.transform(X_test)"
   ]
  },
  {
   "cell_type": "code",
   "execution_count": 6,
   "id": "d6a3be02",
   "metadata": {},
   "outputs": [
    {
     "name": "stdout",
     "output_type": "stream",
     "text": [
      "=== Cleaned Data SVM ===\n",
      "Accuracy: 0.569\n",
      "Classification Report:\n",
      "               precision    recall  f1-score   support\n",
      "\n",
      "           0       0.42      0.05      0.09       423\n",
      "           1       0.58      0.95      0.72       577\n",
      "\n",
      "    accuracy                           0.57      1000\n",
      "   macro avg       0.50      0.50      0.40      1000\n",
      "weighted avg       0.51      0.57      0.45      1000\n",
      "\n",
      "Confusion Matrix:\n",
      " [[ 21 402]\n",
      " [ 29 548]]\n"
     ]
    }
   ],
   "source": [
    "clf_cleaned = SVC(kernel=\"rbf\", random_state=42)\n",
    "clf_cleaned.fit(X_train_scaled, y_train)\n",
    "y_pred_cleaned = clf_cleaned.predict(X_test_scaled)\n",
    "\n",
    "print(\"=== Cleaned Data SVM ===\")\n",
    "print(\"Accuracy:\", accuracy_score(y_test, y_pred_cleaned))\n",
    "print(\"Classification Report:\\n\", classification_report(y_test, y_pred_cleaned))\n",
    "print(\"Confusion Matrix:\\n\", confusion_matrix(y_test, y_pred_cleaned))"
   ]
  },
  {
   "cell_type": "markdown",
   "id": "6923c05c",
   "metadata": {},
   "source": [
    "### PCA+군집분석 SVM"
   ]
  },
  {
   "cell_type": "code",
   "execution_count": 7,
   "id": "1c4614ea",
   "metadata": {},
   "outputs": [],
   "source": [
    "df_pca = pd.read_csv(\"../../data/processed/3_pca_cluster_data.csv\")"
   ]
  },
  {
   "cell_type": "code",
   "execution_count": 8,
   "id": "2ce62034",
   "metadata": {},
   "outputs": [],
   "source": [
    "y_pca = df_pca[\"Sleep_Quality_Binary\"]\n",
    "\n",
    "X_pca = df_pca.drop(columns=[\"Sleep_Quality_Binary\", \"Cluster\"])\n",
    "\n",
    "X_train_pca, X_test_pca, y_train_pca, y_test_pca = train_test_split(X_pca, y_pca, test_size=0.2, random_state=5)\n",
    "\n",
    "scaler = StandardScaler()\n",
    "X_train_scaled_pca = scaler.fit_transform(X_train)\n",
    "X_test_scaled_pca = scaler.transform(X_test)"
   ]
  },
  {
   "cell_type": "code",
   "execution_count": 9,
   "id": "f6dc4691",
   "metadata": {},
   "outputs": [
    {
     "name": "stdout",
     "output_type": "stream",
     "text": [
      "=== SVM on PCA+Cluster Data ===\n",
      "Accuracy: 0.608\n",
      "Classification Report:\n",
      "               precision    recall  f1-score   support\n",
      "\n",
      "           0       0.58      0.07      0.13       400\n",
      "           1       0.61      0.96      0.75       600\n",
      "\n",
      "    accuracy                           0.61      1000\n",
      "   macro avg       0.59      0.52      0.44      1000\n",
      "weighted avg       0.60      0.61      0.50      1000\n",
      "\n",
      "Confusion Matrix:\n",
      " [[ 29 371]\n",
      " [ 21 579]]\n"
     ]
    }
   ],
   "source": [
    "clf_pca = SVC(kernel=\"rbf\", random_state=42)\n",
    "clf_pca.fit(X_train_scaled, y_train)\n",
    "y_pred_pca = clf_pca.predict(X_test_scaled_pca)\n",
    "\n",
    "print(\"=== SVM on PCA+Cluster Data ===\")\n",
    "print(\"Accuracy:\", accuracy_score(y_test_pca, y_pred_pca))\n",
    "print(\"Classification Report:\\n\", classification_report(y_test_pca, y_pred_pca))\n",
    "print(\"Confusion Matrix:\\n\", confusion_matrix(y_test_pca, y_pred_pca))"
   ]
  },
  {
   "cell_type": "markdown",
   "id": "228ac95e",
   "metadata": {},
   "source": [
    "### cleaned와 PCA 버전 SVM 비교"
   ]
  },
  {
   "cell_type": "code",
   "execution_count": 10,
   "id": "b8593515",
   "metadata": {},
   "outputs": [
    {
     "name": "stdout",
     "output_type": "stream",
     "text": [
      "=== SVM 성능 비교 ===\n",
      "         Model  Accuracy  Precision   Recall  F1 Score\n",
      "0      Cleaned     0.569   0.576842  0.94974  0.717747\n",
      "1          PCA     0.569   0.576842  0.94974  0.717747\n",
      "2  PCA+Cluster     0.608   0.609474  0.96500  0.747097\n"
     ]
    }
   ],
   "source": [
    "def get_metrics(y_true, y_pred):\n",
    "    return {\n",
    "        \"Accuracy\": accuracy_score(y_true, y_pred),\n",
    "        \"Precision\": precision_score(y_true, y_pred),\n",
    "        \"Recall\": recall_score(y_true, y_pred),\n",
    "        \"F1 Score\": f1_score(y_true, y_pred)\n",
    "    }\n",
    "\n",
    "# 2. 각 모델의 결과 수집\n",
    "metrics_cleaned = get_metrics(y_test, y_pred_cleaned)\n",
    "metrics_pca = get_metrics(y_test, y_pred_pca)\n",
    "metrics_pca_cluster = get_metrics(y_test_pca, y_pred_pca)  # 변수명 주의\n",
    "\n",
    "results_df = pd.DataFrame([\n",
    "    {\"Model\": \"Cleaned\", **metrics_cleaned},\n",
    "    {\"Model\": \"PCA\", **metrics_pca},\n",
    "    {\"Model\": \"PCA+Cluster\", **metrics_pca_cluster}\n",
    "])\n",
    "\n",
    "print(\"=== SVM 성능 비교 ===\")\n",
    "print(results_df)"
   ]
  },
  {
   "cell_type": "code",
   "execution_count": 11,
   "id": "c8004ff2",
   "metadata": {},
   "outputs": [
    {
     "data": {
      "image/png": "[encoded data removed]",
      "text/plain": [
       "<Figure size 1000x600 with 1 Axes>"
      ]
     },
     "metadata": {},
     "output_type": "display_data"
    }
   ],
   "source": [
    "melted = results_df.melt(id_vars=\"Model\", var_name=\"Metric\", value_name=\"Score\")\n",
    "\n",
    "plt.figure(figsize=(10, 6))\n",
    "sns.barplot(data=melted, x=\"Metric\", y=\"Score\", hue=\"Model\")\n",
    "plt.title(\"SVM 모델 성능 비교 (기존 예측값 기반)\")\n",
    "plt.ylim(0, 1)\n",
    "plt.grid(axis=\"y\", linestyle=\"--\", alpha=0.7)\n",
    "plt.tight_layout()\n",
    "plt.show()"
   ]
  },
  {
   "cell_type": "markdown",
   "id": "01032faf",
   "metadata": {},
   "source": [
    "PCA+Cluster 모델이 전체적으로 더 많은 샘플을 정확히 분류.\n",
    "\n",
    "정밀도 역시 PCA+Cluster > Cleaned = PCA\n",
    "\n",
    "세 모델 모두 매우 높음 (0.95 이상) → 실제 양성을 잘 찾아냄. $\\\\$ 다만, 정밀도가 낮은 것을 보면, 과하게 양성으로 예측하는 경향이 있다는 의미."
   ]
  },
  {
   "cell_type": "markdown",
   "id": "2d3dd61d",
   "metadata": {},
   "source": [
    "### cleaned에 커널 실험"
   ]
  },
  {
   "cell_type": "code",
   "execution_count": 13,
   "id": "d8f57576",
   "metadata": {},
   "outputs": [
    {
     "name": "stdout",
     "output_type": "stream",
     "text": [
      "--- Kernel: linear ---\n",
      "Accuracy: 0.577\n",
      "F1 Score: 0.7317691819911224\n",
      "\n",
      "--- Kernel: poly ---\n",
      "Accuracy: 0.554\n",
      "F1 Score: 0.6814285714285714\n",
      "\n",
      "--- Kernel: sigmoid ---\n",
      "Accuracy: 0.575\n",
      "F1 Score: 0.7263361236316807\n",
      "\n"
     ]
    }
   ],
   "source": [
    "kernels = [\"linear\", \"poly\", \"sigmoid\"]\n",
    "\n",
    "for kernel in kernels:\n",
    "    clf = SVC(kernel=kernel, random_state=42)  # <- 여기에서 kernel 변수 사용\n",
    "    clf.fit(X_train_scaled, y_train)\n",
    "    y_pred = clf.predict(X_test_scaled)\n",
    "\n",
    "    print(f\"--- Kernel: {kernel} ---\")\n",
    "    print(\"Accuracy:\", accuracy_score(y_test, y_pred))\n",
    "    print(\"F1 Score:\", f1_score(y_test, y_pred))\n",
    "    print()"
   ]
  }
 ],
 "metadata": {
  "kernelspec": {
   "display_name": ".multivar",
   "language": "python",
   "name": "python3"
  },
  "language_info": {
   "codemirror_mode": {
    "name": "ipython",
    "version": 3
   },
   "file_extension": ".py",
   "mimetype": "text/x-python",
   "name": "python",
   "nbconvert_exporter": "python",
   "pygments_lexer": "ipython3",
   "version": "3.13.3"
  }
 },
 "nbformat": 4,
 "nbformat_minor": 5
}
