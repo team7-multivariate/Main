{
 "cells": [
  {
   "cell_type": "code",
   "execution_count": 15,
   "id": "6995690c",
   "metadata": {},
   "outputs": [],
   "source": [
    "from pandas.api.types import CategoricalDtype\n",
    "import pandas as pd\n",
    "from scipy import stats"
   ]
  },
  {
   "cell_type": "code",
   "execution_count": 16,
   "id": "1bb7d1a3",
   "metadata": {},
   "outputs": [],
   "source": [
    "df = pd.read_csv(\"../../data/processed/sleep_cycle_productivity_cleaned.csv\")"
   ]
  },
  {
   "cell_type": "code",
   "execution_count": 17,
   "id": "a7b805fb",
   "metadata": {},
   "outputs": [],
   "source": [
    "# 연속형 -> 순서형 \n",
    "ordered_score = CategoricalDtype(categories=list(range(1, 11)), ordered=True)\n",
    "\n",
    "# 적용\n",
    "df['Sleep Quality'] = df['Sleep Quality'].astype(ordered_score)\n",
    "df['Productivity Score'] = df['Productivity Score'].astype(ordered_score)\n",
    "df['Mood Score'] = df['Mood Score'].astype(ordered_score)\n",
    "df['Stress Level'] = df['Stress Level'].astype(ordered_score)\n",
    "\n",
    "#gender 범주형 변환 \n",
    "df['Gender'] = df['Gender'].astype('category')\n",
    "df['Weekday'] = df['Weekday'].astype('category')"
   ]
  },
  {
   "cell_type": "code",
   "execution_count": 18,
   "id": "293f7289",
   "metadata": {},
   "outputs": [
    {
     "data": {
      "text/html": [
       "<div>\n",
       "<style scoped>\n",
       "    .dataframe tbody tr th:only-of-type {\n",
       "        vertical-align: middle;\n",
       "    }\n",
       "\n",
       "    .dataframe tbody tr th {\n",
       "        vertical-align: top;\n",
       "    }\n",
       "\n",
       "    .dataframe thead th {\n",
       "        text-align: right;\n",
       "    }\n",
       "</style>\n",
       "<table border=\"1\" class=\"dataframe\">\n",
       "  <thead>\n",
       "    <tr style=\"text-align: right;\">\n",
       "      <th></th>\n",
       "      <th>Date</th>\n",
       "      <th>Age</th>\n",
       "      <th>Gender</th>\n",
       "      <th>Sleep Start Time</th>\n",
       "      <th>Sleep End Time</th>\n",
       "      <th>Total Sleep Hours</th>\n",
       "      <th>Sleep Quality</th>\n",
       "      <th>Exercise (mins/day)</th>\n",
       "      <th>Screen Time Before Bed (mins)</th>\n",
       "      <th>Work Hours (hrs/day)</th>\n",
       "      <th>Productivity Score</th>\n",
       "      <th>Mood Score</th>\n",
       "      <th>Stress Level</th>\n",
       "      <th>Weekday</th>\n",
       "    </tr>\n",
       "  </thead>\n",
       "  <tbody>\n",
       "    <tr>\n",
       "      <th>0</th>\n",
       "      <td>2024-04-12</td>\n",
       "      <td>30</td>\n",
       "      <td>2</td>\n",
       "      <td>23.33</td>\n",
       "      <td>4.61</td>\n",
       "      <td>5.28</td>\n",
       "      <td>3</td>\n",
       "      <td>86</td>\n",
       "      <td>116</td>\n",
       "      <td>8.808920</td>\n",
       "      <td>8</td>\n",
       "      <td>3</td>\n",
       "      <td>6</td>\n",
       "      <td>Friday</td>\n",
       "    </tr>\n",
       "    <tr>\n",
       "      <th>1</th>\n",
       "      <td>2024-11-04</td>\n",
       "      <td>40</td>\n",
       "      <td>0</td>\n",
       "      <td>21.02</td>\n",
       "      <td>2.43</td>\n",
       "      <td>5.41</td>\n",
       "      <td>5</td>\n",
       "      <td>32</td>\n",
       "      <td>88</td>\n",
       "      <td>6.329833</td>\n",
       "      <td>10</td>\n",
       "      <td>3</td>\n",
       "      <td>7</td>\n",
       "      <td>Monday</td>\n",
       "    </tr>\n",
       "    <tr>\n",
       "      <th>2</th>\n",
       "      <td>2024-08-31</td>\n",
       "      <td>20</td>\n",
       "      <td>1</td>\n",
       "      <td>22.10</td>\n",
       "      <td>3.45</td>\n",
       "      <td>5.35</td>\n",
       "      <td>7</td>\n",
       "      <td>17</td>\n",
       "      <td>59</td>\n",
       "      <td>8.506306</td>\n",
       "      <td>10</td>\n",
       "      <td>9</td>\n",
       "      <td>10</td>\n",
       "      <td>Saturday</td>\n",
       "    </tr>\n",
       "    <tr>\n",
       "      <th>3</th>\n",
       "      <td>2024-02-22</td>\n",
       "      <td>30</td>\n",
       "      <td>2</td>\n",
       "      <td>23.10</td>\n",
       "      <td>6.65</td>\n",
       "      <td>7.55</td>\n",
       "      <td>8</td>\n",
       "      <td>46</td>\n",
       "      <td>80</td>\n",
       "      <td>6.070240</td>\n",
       "      <td>8</td>\n",
       "      <td>4</td>\n",
       "      <td>2</td>\n",
       "      <td>Thursday</td>\n",
       "    </tr>\n",
       "    <tr>\n",
       "      <th>4</th>\n",
       "      <td>2024-02-23</td>\n",
       "      <td>40</td>\n",
       "      <td>2</td>\n",
       "      <td>21.42</td>\n",
       "      <td>4.17</td>\n",
       "      <td>6.75</td>\n",
       "      <td>10</td>\n",
       "      <td>61</td>\n",
       "      <td>94</td>\n",
       "      <td>11.374994</td>\n",
       "      <td>8</td>\n",
       "      <td>7</td>\n",
       "      <td>9</td>\n",
       "      <td>Friday</td>\n",
       "    </tr>\n",
       "  </tbody>\n",
       "</table>\n",
       "</div>"
      ],
      "text/plain": [
       "         Date  Age Gender  Sleep Start Time  Sleep End Time  \\\n",
       "0  2024-04-12   30      2             23.33            4.61   \n",
       "1  2024-11-04   40      0             21.02            2.43   \n",
       "2  2024-08-31   20      1             22.10            3.45   \n",
       "3  2024-02-22   30      2             23.10            6.65   \n",
       "4  2024-02-23   40      2             21.42            4.17   \n",
       "\n",
       "   Total Sleep Hours Sleep Quality  Exercise (mins/day)  \\\n",
       "0               5.28             3                   86   \n",
       "1               5.41             5                   32   \n",
       "2               5.35             7                   17   \n",
       "3               7.55             8                   46   \n",
       "4               6.75            10                   61   \n",
       "\n",
       "   Screen Time Before Bed (mins)  Work Hours (hrs/day) Productivity Score  \\\n",
       "0                            116              8.808920                  8   \n",
       "1                             88              6.329833                 10   \n",
       "2                             59              8.506306                 10   \n",
       "3                             80              6.070240                  8   \n",
       "4                             94             11.374994                  8   \n",
       "\n",
       "  Mood Score Stress Level   Weekday  \n",
       "0          3            6    Friday  \n",
       "1          3            7    Monday  \n",
       "2          9           10  Saturday  \n",
       "3          4            2  Thursday  \n",
       "4          7            9    Friday  "
      ]
     },
     "execution_count": 18,
     "metadata": {},
     "output_type": "execute_result"
    }
   ],
   "source": [
    "df.head(5)"
   ]
  },
  {
   "cell_type": "code",
   "execution_count": 19,
   "id": "a9db88f4",
   "metadata": {},
   "outputs": [
    {
     "data": {
      "text/plain": [
       "(5000, 14)"
      ]
     },
     "execution_count": 19,
     "metadata": {},
     "output_type": "execute_result"
    }
   ],
   "source": [
    "df.shape"
   ]
  },
  {
   "cell_type": "code",
   "execution_count": 20,
   "id": "0289101d",
   "metadata": {},
   "outputs": [
    {
     "name": "stdout",
     "output_type": "stream",
     "text": [
      "<class 'pandas.core.frame.DataFrame'>\n",
      "RangeIndex: 5000 entries, 0 to 4999\n",
      "Data columns (total 14 columns):\n",
      " #   Column                         Non-Null Count  Dtype   \n",
      "---  ------                         --------------  -----   \n",
      " 0   Date                           5000 non-null   object  \n",
      " 1   Age                            5000 non-null   int64   \n",
      " 2   Gender                         5000 non-null   category\n",
      " 3   Sleep Start Time               5000 non-null   float64 \n",
      " 4   Sleep End Time                 5000 non-null   float64 \n",
      " 5   Total Sleep Hours              5000 non-null   float64 \n",
      " 6   Sleep Quality                  5000 non-null   category\n",
      " 7   Exercise (mins/day)            5000 non-null   int64   \n",
      " 8   Screen Time Before Bed (mins)  5000 non-null   int64   \n",
      " 9   Work Hours (hrs/day)           5000 non-null   float64 \n",
      " 10  Productivity Score             5000 non-null   category\n",
      " 11  Mood Score                     5000 non-null   category\n",
      " 12  Stress Level                   5000 non-null   category\n",
      " 13  Weekday                        5000 non-null   category\n",
      "dtypes: category(6), float64(4), int64(3), object(1)\n",
      "memory usage: 343.9+ KB\n"
     ]
    }
   ],
   "source": [
    "df.info()"
   ]
  },
  {
   "cell_type": "code",
   "execution_count": 21,
   "id": "3cab6719",
   "metadata": {},
   "outputs": [],
   "source": [
    "# 종속변수 이진분류: Sleep Quality 5 이상이면 1, 아니면 0\n",
    "df['Sleep_Quality_Binary'] = (df['Sleep Quality'] >= 5).astype(int)\n",
    "y = df['Sleep_Quality_Binary']\n",
    "\n",
    "X = df[['Age', 'Gender', 'Sleep Start Time', 'Sleep End Time',\n",
    "        'Total Sleep Hours', 'Exercise (mins/day)',\n",
    "        'Screen Time Before Bed (mins)', 'Work Hours (hrs/day)',\n",
    "        'Productivity Score', 'Mood Score', 'Stress Level', 'Weekday']]"
   ]
  },
  {
   "cell_type": "code",
   "execution_count": 22,
   "id": "b4d21c02",
   "metadata": {},
   "outputs": [
    {
     "data": {
      "text/plain": [
       "Sleep Quality\n",
       "1     480\n",
       "2     503\n",
       "3     490\n",
       "4     508\n",
       "5     521\n",
       "6     489\n",
       "7     517\n",
       "8     491\n",
       "9     480\n",
       "10    521\n",
       "Name: count, dtype: int64"
      ]
     },
     "execution_count": 22,
     "metadata": {},
     "output_type": "execute_result"
    }
   ],
   "source": [
    "df['Sleep Quality'].value_counts().sort_index()"
   ]
  },
  {
   "cell_type": "code",
   "execution_count": 23,
   "id": "92627779",
   "metadata": {},
   "outputs": [
    {
     "data": {
      "text/plain": [
       "Sleep_Quality_Binary\n",
       "0    1981\n",
       "1    3019\n",
       "Name: count, dtype: int64"
      ]
     },
     "execution_count": 23,
     "metadata": {},
     "output_type": "execute_result"
    }
   ],
   "source": [
    "y.value_counts().sort_index()"
   ]
  },
  {
   "cell_type": "code",
   "execution_count": 24,
   "id": "e3291370",
   "metadata": {},
   "outputs": [
    {
     "data": {
      "text/html": [
       "<div>\n",
       "<style scoped>\n",
       "    .dataframe tbody tr th:only-of-type {\n",
       "        vertical-align: middle;\n",
       "    }\n",
       "\n",
       "    .dataframe tbody tr th {\n",
       "        vertical-align: top;\n",
       "    }\n",
       "\n",
       "    .dataframe thead th {\n",
       "        text-align: right;\n",
       "    }\n",
       "</style>\n",
       "<table border=\"1\" class=\"dataframe\">\n",
       "  <thead>\n",
       "    <tr style=\"text-align: right;\">\n",
       "      <th></th>\n",
       "      <th>Age</th>\n",
       "      <th>Sleep Start Time</th>\n",
       "      <th>Sleep End Time</th>\n",
       "      <th>Total Sleep Hours</th>\n",
       "      <th>Exercise (mins/day)</th>\n",
       "      <th>Screen Time Before Bed (mins)</th>\n",
       "      <th>Work Hours (hrs/day)</th>\n",
       "      <th>Sleep_Quality_Binary</th>\n",
       "    </tr>\n",
       "  </thead>\n",
       "  <tbody>\n",
       "    <tr>\n",
       "      <th>count</th>\n",
       "      <td>5000.000000</td>\n",
       "      <td>5000.000000</td>\n",
       "      <td>5000.000000</td>\n",
       "      <td>5000.000000</td>\n",
       "      <td>5000.000000</td>\n",
       "      <td>5000.000000</td>\n",
       "      <td>5000.000000</td>\n",
       "      <td>5000.000000</td>\n",
       "    </tr>\n",
       "    <tr>\n",
       "      <th>mean</th>\n",
       "      <td>33.886000</td>\n",
       "      <td>22.005350</td>\n",
       "      <td>4.980262</td>\n",
       "      <td>6.974902</td>\n",
       "      <td>43.962600</td>\n",
       "      <td>91.421200</td>\n",
       "      <td>7.987873</td>\n",
       "      <td>0.603800</td>\n",
       "    </tr>\n",
       "    <tr>\n",
       "      <th>std</th>\n",
       "      <td>12.320283</td>\n",
       "      <td>1.157591</td>\n",
       "      <td>1.862508</td>\n",
       "      <td>1.454033</td>\n",
       "      <td>25.798541</td>\n",
       "      <td>52.079123</td>\n",
       "      <td>2.275734</td>\n",
       "      <td>0.489156</td>\n",
       "    </tr>\n",
       "    <tr>\n",
       "      <th>min</th>\n",
       "      <td>10.000000</td>\n",
       "      <td>20.000000</td>\n",
       "      <td>0.560000</td>\n",
       "      <td>4.500000</td>\n",
       "      <td>0.000000</td>\n",
       "      <td>0.000000</td>\n",
       "      <td>4.000067</td>\n",
       "      <td>0.000000</td>\n",
       "    </tr>\n",
       "    <tr>\n",
       "      <th>25%</th>\n",
       "      <td>20.000000</td>\n",
       "      <td>21.020000</td>\n",
       "      <td>3.660000</td>\n",
       "      <td>5.690000</td>\n",
       "      <td>22.000000</td>\n",
       "      <td>46.000000</td>\n",
       "      <td>6.032720</td>\n",
       "      <td>0.000000</td>\n",
       "    </tr>\n",
       "    <tr>\n",
       "      <th>50%</th>\n",
       "      <td>30.000000</td>\n",
       "      <td>22.020000</td>\n",
       "      <td>4.970000</td>\n",
       "      <td>6.960000</td>\n",
       "      <td>44.000000</td>\n",
       "      <td>92.000000</td>\n",
       "      <td>7.998295</td>\n",
       "      <td>1.000000</td>\n",
       "    </tr>\n",
       "    <tr>\n",
       "      <th>75%</th>\n",
       "      <td>40.000000</td>\n",
       "      <td>23.000000</td>\n",
       "      <td>6.310000</td>\n",
       "      <td>8.210000</td>\n",
       "      <td>66.000000</td>\n",
       "      <td>136.000000</td>\n",
       "      <td>9.905024</td>\n",
       "      <td>1.000000</td>\n",
       "    </tr>\n",
       "    <tr>\n",
       "      <th>max</th>\n",
       "      <td>50.000000</td>\n",
       "      <td>23.980000</td>\n",
       "      <td>9.420000</td>\n",
       "      <td>9.500000</td>\n",
       "      <td>89.000000</td>\n",
       "      <td>179.000000</td>\n",
       "      <td>11.999141</td>\n",
       "      <td>1.000000</td>\n",
       "    </tr>\n",
       "  </tbody>\n",
       "</table>\n",
       "</div>"
      ],
      "text/plain": [
       "               Age  Sleep Start Time  Sleep End Time  Total Sleep Hours  \\\n",
       "count  5000.000000       5000.000000     5000.000000        5000.000000   \n",
       "mean     33.886000         22.005350        4.980262           6.974902   \n",
       "std      12.320283          1.157591        1.862508           1.454033   \n",
       "min      10.000000         20.000000        0.560000           4.500000   \n",
       "25%      20.000000         21.020000        3.660000           5.690000   \n",
       "50%      30.000000         22.020000        4.970000           6.960000   \n",
       "75%      40.000000         23.000000        6.310000           8.210000   \n",
       "max      50.000000         23.980000        9.420000           9.500000   \n",
       "\n",
       "       Exercise (mins/day)  Screen Time Before Bed (mins)  \\\n",
       "count          5000.000000                    5000.000000   \n",
       "mean             43.962600                      91.421200   \n",
       "std              25.798541                      52.079123   \n",
       "min               0.000000                       0.000000   \n",
       "25%              22.000000                      46.000000   \n",
       "50%              44.000000                      92.000000   \n",
       "75%              66.000000                     136.000000   \n",
       "max              89.000000                     179.000000   \n",
       "\n",
       "       Work Hours (hrs/day)  Sleep_Quality_Binary  \n",
       "count           5000.000000           5000.000000  \n",
       "mean               7.987873              0.603800  \n",
       "std                2.275734              0.489156  \n",
       "min                4.000067              0.000000  \n",
       "25%                6.032720              0.000000  \n",
       "50%                7.998295              1.000000  \n",
       "75%                9.905024              1.000000  \n",
       "max               11.999141              1.000000  "
      ]
     },
     "execution_count": 24,
     "metadata": {},
     "output_type": "execute_result"
    }
   ],
   "source": [
    "df.describe()"
   ]
  },
  {
   "cell_type": "markdown",
   "id": "aee52452",
   "metadata": {},
   "source": [
    "## 종속변수와 독립변수 간의 상관성 파악"
   ]
  },
  {
   "cell_type": "markdown",
   "id": "6cf9167a",
   "metadata": {},
   "source": [
    "### 반응변수 : 순서형 'Sleep Quality'"
   ]
  },
  {
   "cell_type": "markdown",
   "id": "1675c53d",
   "metadata": {},
   "source": [
    "#### anova 범주형"
   ]
  },
  {
   "cell_type": "markdown",
   "id": "3d990174",
   "metadata": {},
   "source": [
    "'Age', 'Gender', 'Weekday'"
   ]
  },
  {
   "cell_type": "code",
   "execution_count": 25,
   "id": "92f7e18f",
   "metadata": {},
   "outputs": [],
   "source": [
    "Categorical  = df[['Age', 'Gender', 'Weekday','Productivity Score', 'Mood Score', 'Stress Level']]"
   ]
  },
  {
   "cell_type": "code",
   "execution_count": 26,
   "id": "979c8148",
   "metadata": {},
   "outputs": [
    {
     "name": "stdout",
     "output_type": "stream",
     "text": [
      "변수명 Age\n",
      "10     267\n",
      "20    1164\n",
      "30    1163\n",
      "40    1171\n",
      "50    1235\n",
      "Name: count, dtype: int64\n",
      "변수명 Gender\n",
      "0    1675\n",
      "1    1718\n",
      "2    1607\n",
      "Name: count, dtype: int64\n",
      "변수명 Weekday\n",
      "Friday       716\n",
      "Monday       712\n",
      "Saturday     744\n",
      "Sunday       739\n",
      "Thursday     689\n",
      "Tuesday      720\n",
      "Wednesday    680\n",
      "Name: count, dtype: int64\n",
      "변수명 Productivity Score\n",
      "1     428\n",
      "2     524\n",
      "3     476\n",
      "4     501\n",
      "5     453\n",
      "6     501\n",
      "7     509\n",
      "8     509\n",
      "9     583\n",
      "10    516\n",
      "Name: count, dtype: int64\n",
      "변수명 Mood Score\n",
      "1     504\n",
      "2     521\n",
      "3     536\n",
      "4     542\n",
      "5     502\n",
      "6     489\n",
      "7     514\n",
      "8     491\n",
      "9     449\n",
      "10    452\n",
      "Name: count, dtype: int64\n",
      "변수명 Stress Level\n",
      "1     500\n",
      "2     470\n",
      "3     519\n",
      "4     498\n",
      "5     478\n",
      "6     500\n",
      "7     490\n",
      "8     495\n",
      "9     529\n",
      "10    521\n",
      "Name: count, dtype: int64\n"
     ]
    }
   ],
   "source": [
    "for col in Categorical.columns:\n",
    "    print(\"변수명\",df[col].value_counts().sort_index()) "
   ]
  },
  {
   "cell_type": "code",
   "execution_count": 27,
   "id": "5e35e6d8",
   "metadata": {},
   "outputs": [
    {
     "name": "stdout",
     "output_type": "stream",
     "text": [
      "수면의 질과 Age의 상관성 36430.79590724647 0.0\n"
     ]
    }
   ],
   "source": [
    "F_statistic, pVal = stats.f_oneway(df[\"Age\"],y)\n",
    "print(\"수면의 질과 Age의 상관성\",F_statistic,pVal)"
   ]
  },
  {
   "cell_type": "code",
   "execution_count": 28,
   "id": "c0405e6d",
   "metadata": {},
   "outputs": [
    {
     "name": "stdout",
     "output_type": "stream",
     "text": [
      "수면의 질과 Gender의 상관성 817.2149188232029 7.696723506152129e-173\n"
     ]
    }
   ],
   "source": [
    "F_statistic, pVal = stats.f_oneway(df[\"Gender\"],y)\n",
    "print(\"수면의 질과 Gender의 상관성\",F_statistic,pVal)"
   ]
  },
  {
   "cell_type": "code",
   "execution_count": 29,
   "id": "ed745832",
   "metadata": {},
   "outputs": [
    {
     "name": "stdout",
     "output_type": "stream",
     "text": [
      "[Age] - 수면의 질 간 ANOVA 결과: F통계량 = 0.30, p = 0.87528\n",
      "→ 통계적으로 유의한 차이가 없다.\n",
      "\n",
      "[Gender] - 수면의 질 간 ANOVA 결과: F통계량 = 0.36, p = 0.69797\n",
      "→ 통계적으로 유의한 차이가 없다.\n",
      "\n",
      "[Weekday] - 수면의 질 간 ANOVA 결과: F통계량 = 0.82, p = 0.55345\n",
      "→ 통계적으로 유의한 차이가 없다.\n",
      "\n",
      "[Productivity Score] - 수면의 질 간 ANOVA 결과: F통계량 = 0.75, p = 0.65931\n",
      "→ 통계적으로 유의한 차이가 없다.\n",
      "\n",
      "[Mood Score] - 수면의 질 간 ANOVA 결과: F통계량 = 1.31, p = 0.22476\n",
      "→ 통계적으로 유의한 차이가 없다.\n",
      "\n",
      "[Stress Level] - 수면의 질 간 ANOVA 결과: F통계량 = 1.17, p = 0.30705\n",
      "→ 통계적으로 유의한 차이가 없다.\n",
      "\n"
     ]
    }
   ],
   "source": [
    "\n",
    "for col in Categorical.columns:\n",
    "    categories = df[col].dropna().unique()\n",
    "    groups = [y[df[col] == cat] for cat in categories]  # 각 범주에 해당하는 y 값 추출\n",
    "\n",
    "    if len(groups) >= 2:  # 최소 2개 이상의 그룹이 있어야 ANOVA 가능\n",
    "        F_statistic, pVal = stats.f_oneway(*groups)  # 그룹들을 unpack해서 넣기\n",
    "        print(f\"[{col}] - 수면의 질 간 ANOVA 결과: F통계량 = {F_statistic:.2f}, p = {pVal:.5f}\")\n",
    "        if pVal < 0.05:\n",
    "            print(\"→ 통계적으로 유의한 차이가 있다.\\n\")\n",
    "        else:\n",
    "            print(\"→ 통계적으로 유의한 차이가 없다.\\n\")"
   ]
  },
  {
   "cell_type": "markdown",
   "id": "60a933b7",
   "metadata": {},
   "source": [
    "#### 스피어만 . 연속형,순서형"
   ]
  },
  {
   "cell_type": "markdown",
   "id": "a2955a1b",
   "metadata": {},
   "source": [
    "'Sleep Start Time', 'Sleep End Time', 'Total Sleep Hours', 'Exercise (mins/day)', 'Screen Time Before Bed (mins)', 'Work Hours (hrs/day)'"
   ]
  },
  {
   "cell_type": "code",
   "execution_count": 30,
   "id": "781fcf01",
   "metadata": {},
   "outputs": [],
   "source": [
    "data_small = df[['Sleep Start Time', 'Sleep End Time',\n",
    "'Total Sleep Hours', 'Exercise (mins/day)',\n",
    "'Screen Time Before Bed (mins)', 'Work Hours (hrs/day)']]"
   ]
  },
  {
   "cell_type": "code",
   "execution_count": 31,
   "id": "7331e011",
   "metadata": {},
   "outputs": [
    {
     "name": "stdout",
     "output_type": "stream",
     "text": [
      " 수면의 질('Sleep Quality')과 Sleep Start Time - Spearman 상관계수: 0.004, p값: 0.7757\n",
      "→ 통계적으로 유의한 차이가 없습니다.\n",
      "\n",
      " 수면의 질('Sleep Quality')과 Sleep End Time - Spearman 상관계수: 0.002, p값: 0.8766\n",
      "→ 통계적으로 유의한 차이가 없습니다.\n",
      "\n",
      " 수면의 질('Sleep Quality')과 Total Sleep Hours - Spearman 상관계수: -0.002, p값: 0.8799\n",
      "→ 통계적으로 유의한 차이가 없습니다.\n",
      "\n",
      " 수면의 질('Sleep Quality')과 Exercise (mins/day) - Spearman 상관계수: 0.011, p값: 0.4293\n",
      "→ 통계적으로 유의한 차이가 없습니다.\n",
      "\n",
      " 수면의 질('Sleep Quality')과 Screen Time Before Bed (mins) - Spearman 상관계수: 0.002, p값: 0.8688\n",
      "→ 통계적으로 유의한 차이가 없습니다.\n",
      "\n",
      " 수면의 질('Sleep Quality')과 Work Hours (hrs/day) - Spearman 상관계수: -0.011, p값: 0.4247\n",
      "→ 통계적으로 유의한 차이가 없습니다.\n",
      "\n"
     ]
    }
   ],
   "source": [
    "for col in data_small.columns : \n",
    "    corr, p = stats.spearmanr(y,df[col])\n",
    "    print(f\" 수면의 질('Sleep Quality')과 {col} - Spearman 상관계수: {corr:.3f}, p값: {p:.4f}\")\n",
    "    if pVal < 0.05:\n",
    "            print(\"→ 통계적으로 유의한 차이가 있습니다.\\n\")\n",
    "    else:\n",
    "            print(\"→ 통계적으로 유의한 차이가 없습니다.\\n\")"
   ]
  }
 ],
 "metadata": {
  "kernelspec": {
   "display_name": ".multivar",
   "language": "python",
   "name": "python3"
  },
  "language_info": {
   "codemirror_mode": {
    "name": "ipython",
    "version": 3
   },
   "file_extension": ".py",
   "mimetype": "text/x-python",
   "name": "python",
   "nbconvert_exporter": "python",
   "pygments_lexer": "ipython3",
   "version": "3.13.3"
  }
 },
 "nbformat": 4,
 "nbformat_minor": 5
}
